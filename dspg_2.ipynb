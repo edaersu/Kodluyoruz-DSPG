{
 "cells": [
  {
   "cell_type": "markdown",
   "metadata": {},
   "source": [
    "##  1\n",
    "    "
   ]
  },
  {
   "cell_type": "code",
   "execution_count": 1,
   "metadata": {},
   "outputs": [],
   "source": [
    "def iter_power(x, n):\n",
    "    if(x==0):\n",
    "        return 0\n",
    "    \n",
    "    pow = 1\n",
    "    for i in range(n):\n",
    "        pow*=x\n",
    "        \n",
    "    return pow\n",
    "    "
   ]
  },
  {
   "cell_type": "code",
   "execution_count": 2,
   "metadata": {},
   "outputs": [
    {
     "data": {
      "text/plain": [
       "16"
      ]
     },
     "execution_count": 2,
     "metadata": {},
     "output_type": "execute_result"
    }
   ],
   "source": [
    "iter_power(2,4)"
   ]
  },
  {
   "cell_type": "markdown",
   "metadata": {},
   "source": [
    "##  2 "
   ]
  },
  {
   "cell_type": "code",
   "execution_count": 3,
   "metadata": {},
   "outputs": [],
   "source": [
    "def recur_power(x, n): \n",
    "    if x == 0:\n",
    "        return 0\n",
    "    if n == 0:\n",
    "        return 1\n",
    "    if n >= 1:\n",
    "        return x * recur_power(x, n - 1)"
   ]
  },
  {
   "cell_type": "code",
   "execution_count": 4,
   "metadata": {},
   "outputs": [
    {
     "data": {
      "text/plain": [
       "64"
      ]
     },
     "execution_count": 4,
     "metadata": {},
     "output_type": "execute_result"
    }
   ],
   "source": [
    "recur_power(4,3)"
   ]
  },
  {
   "cell_type": "markdown",
   "metadata": {},
   "source": [
    "##  3"
   ]
  },
  {
   "cell_type": "code",
   "execution_count": 5,
   "metadata": {},
   "outputs": [],
   "source": [
    "d = {\"a\":[1,2,3], \"b\":[45,43,21,23], \"c\":[3,4,5]}"
   ]
  },
  {
   "cell_type": "code",
   "execution_count": 6,
   "metadata": {},
   "outputs": [],
   "source": [
    "def max_key(d):\n",
    "    max_value=0\n",
    "    key_of_max=0\n",
    "    for (k,v) in d.items():\n",
    "        for i in d[k]:\n",
    "            if(i>=max_value):\n",
    "                max_value=i\n",
    "                key_of_max=k\n",
    "    print(max_value)\n",
    "    print(key_of_max)"
   ]
  },
  {
   "cell_type": "code",
   "execution_count": 7,
   "metadata": {},
   "outputs": [
    {
     "name": "stdout",
     "output_type": "stream",
     "text": [
      "45\n",
      "b\n"
     ]
    }
   ],
   "source": [
    "max_key(d)"
   ]
  },
  {
   "cell_type": "markdown",
   "metadata": {},
   "source": [
    "##  4"
   ]
  },
  {
   "cell_type": "code",
   "execution_count": 8,
   "metadata": {},
   "outputs": [],
   "source": [
    "def rec_fib(x):\n",
    "    \n",
    "    def add_dict(key,value):\n",
    "        fib_list[key]=value\n",
    "        \n",
    "    if (x == 0) or (x == 1): ## {0,1,1,2,3...}\n",
    "        add_dict(x,x)\n",
    "        return x\n",
    "    \n",
    "    else:\n",
    "        if(x in fib_list):\n",
    "            print(\"..from dict\")\n",
    "            return fib_list[x]\n",
    "        else:\n",
    "            add_dict(x,rec_fib(x-1)+rec_fib(x-2))\n",
    "            return rec_fib(x-1)+rec_fib(x-2)"
   ]
  },
  {
   "cell_type": "code",
   "execution_count": 9,
   "metadata": {},
   "outputs": [],
   "source": [
    "fib_list={}"
   ]
  },
  {
   "cell_type": "code",
   "execution_count": 10,
   "metadata": {},
   "outputs": [
    {
     "name": "stdout",
     "output_type": "stream",
     "text": [
      "..from dict\n",
      "..from dict\n",
      "..from dict\n",
      "..from dict\n",
      "..from dict\n",
      "..from dict\n",
      "..from dict\n",
      "5\n"
     ]
    },
    {
     "data": {
      "text/plain": [
       "{1: 1, 0: 0, 2: 1, 3: 2, 4: 3, 5: 5}"
      ]
     },
     "execution_count": 10,
     "metadata": {},
     "output_type": "execute_result"
    }
   ],
   "source": [
    "print(rec_fib(5))\n",
    "fib_list"
   ]
  },
  {
   "cell_type": "code",
   "execution_count": 11,
   "metadata": {},
   "outputs": [
    {
     "name": "stdout",
     "output_type": "stream",
     "text": [
      "..from dict\n",
      "3\n"
     ]
    }
   ],
   "source": [
    "print(rec_fib(4))"
   ]
  },
  {
   "cell_type": "code",
   "execution_count": null,
   "metadata": {},
   "outputs": [],
   "source": []
  },
  {
   "cell_type": "code",
   "execution_count": null,
   "metadata": {},
   "outputs": [],
   "source": []
  }
 ],
 "metadata": {
  "kernelspec": {
   "display_name": "Python 3",
   "language": "python",
   "name": "python3"
  },
  "language_info": {
   "codemirror_mode": {
    "name": "ipython",
    "version": 3
   },
   "file_extension": ".py",
   "mimetype": "text/x-python",
   "name": "python",
   "nbconvert_exporter": "python",
   "pygments_lexer": "ipython3",
   "version": "3.8.5"
  }
 },
 "nbformat": 4,
 "nbformat_minor": 4
}
