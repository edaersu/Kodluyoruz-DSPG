{
 "cells": [
  {
   "cell_type": "markdown",
   "metadata": {},
   "source": [
    "## 1"
   ]
  },
  {
   "cell_type": "code",
   "execution_count": 1,
   "metadata": {},
   "outputs": [],
   "source": [
    "M = [[11, 12, 13, 14], \n",
    "     [21, 22, 23, 24], \n",
    "     [31, 32, 33, 34]]"
   ]
  },
  {
   "cell_type": "code",
   "execution_count": 2,
   "metadata": {},
   "outputs": [
    {
     "data": {
      "text/plain": [
       "[[12, 11, 13, 14], [22, 21, 23, 24], [32, 31, 33, 34]]"
      ]
     },
     "execution_count": 2,
     "metadata": {},
     "output_type": "execute_result"
    }
   ],
   "source": [
    "def swap_columns(M):\n",
    "    for i in range(len(M)):\n",
    "        for j in range(len(M[i])):\n",
    "            if(j==0):\n",
    "                M[i][j]=M[i][j]+M[i][j+1]\n",
    "                M[i][j+1]=M[i][j]-M[i][j+1]\n",
    "                M[i][j]=M[i][j]-M[i][j+1]\n",
    "\n",
    "    return M\n",
    "\n",
    "M=swap_columns(M)\n",
    "M"
   ]
  },
  {
   "cell_type": "markdown",
   "metadata": {},
   "source": [
    "## 2"
   ]
  },
  {
   "cell_type": "code",
   "execution_count": 3,
   "metadata": {},
   "outputs": [],
   "source": [
    "M = [[0, 3, 2, 4], \n",
    "     [2, 7, 5, 9], \n",
    "     [6, 1, 2, 3]]"
   ]
  },
  {
   "cell_type": "code",
   "execution_count": 4,
   "metadata": {},
   "outputs": [
    {
     "name": "stdout",
     "output_type": "stream",
     "text": [
      "(1,3) \n",
      "9\n"
     ]
    }
   ],
   "source": [
    "def max_value_and_index(M):\n",
    "    max=0\n",
    "    (x,y)=(0,0)\n",
    "    for i in range(len(M)):\n",
    "        for j in range(len(M[i])):\n",
    "            if(M[i][j]>max):\n",
    "                max=M[i][j]\n",
    "                (x,y)=(i,j)\n",
    "    return(max,x,y)\n",
    "\n",
    "(max,y,x)=max_value_and_index(M)\n",
    "print(f\"({y},{x}) \\n{max}\")"
   ]
  },
  {
   "cell_type": "markdown",
   "metadata": {},
   "source": [
    "## 3"
   ]
  },
  {
   "cell_type": "code",
   "execution_count": 5,
   "metadata": {},
   "outputs": [],
   "source": [
    "list_1 = [5, 3, 3, 10, 40]\n",
    "\n",
    "list_2 = [40, 3, 40, 1, 2]"
   ]
  },
  {
   "cell_type": "code",
   "execution_count": 6,
   "metadata": {},
   "outputs": [],
   "source": [
    "list_1.extend(list_2)"
   ]
  },
  {
   "cell_type": "code",
   "execution_count": 7,
   "metadata": {},
   "outputs": [
    {
     "data": {
      "text/plain": [
       "{1, 2, 3, 5, 10, 40}"
      ]
     },
     "execution_count": 7,
     "metadata": {},
     "output_type": "execute_result"
    }
   ],
   "source": [
    "list_unique=set(list_1)\n",
    "list_unique"
   ]
  },
  {
   "cell_type": "code",
   "execution_count": 8,
   "metadata": {},
   "outputs": [
    {
     "data": {
      "text/plain": [
       "6"
      ]
     },
     "execution_count": 8,
     "metadata": {},
     "output_type": "execute_result"
    }
   ],
   "source": [
    "x=len(list_unique)\n",
    "x"
   ]
  },
  {
   "cell_type": "markdown",
   "metadata": {},
   "source": [
    "## 4"
   ]
  },
  {
   "cell_type": "code",
   "execution_count": 9,
   "metadata": {},
   "outputs": [],
   "source": [
    "# Solve this question using dictionary below\n",
    "students = {\"Jane\":{\"grade\":90,\"student_number\":4012}, \n",
    "          \"Pat\":{\"grade\":81,\"student_number\":4052},\n",
    "          \"Denis\":{\"grade\":70,\"student_number\":4089},\n",
    "          \"Max\":{\"grade\":72,\"student_number\":4322},\n",
    "          \"Lara\":{\"grade\":74,\"student_number\":4042}}"
   ]
  },
  {
   "cell_type": "code",
   "execution_count": 10,
   "metadata": {},
   "outputs": [
    {
     "data": {
      "text/plain": [
       "77.4"
      ]
     },
     "execution_count": 10,
     "metadata": {},
     "output_type": "execute_result"
    }
   ],
   "source": [
    "sum=0\n",
    "for key, value in students.items():\n",
    "    sum+=(value['grade'])\n",
    "\n",
    "average=sum/len(students)\n",
    "average"
   ]
  },
  {
   "cell_type": "code",
   "execution_count": 11,
   "metadata": {},
   "outputs": [],
   "source": [
    "below_student=[]\n",
    "above_student=[]\n",
    "equal_student=[]\n",
    "for key, value in students.items():\n",
    "    if(value['grade']>average):\n",
    "        above_student.append(key)\n",
    "    elif(value['grade']==average):\n",
    "        equal_student.append(key)\n",
    "    elif(value['grade']<average):\n",
    "        below_student.append(key)"
   ]
  },
  {
   "cell_type": "code",
   "execution_count": 12,
   "metadata": {},
   "outputs": [],
   "source": [
    "def write_string_name_or_names(liste):\n",
    "    s=\"\"\n",
    "    if (len(liste)==1):\n",
    "        return (f\"{liste[0]} is\")\n",
    "    elif (len(liste)>1):\n",
    "        for i in liste:\n",
    "            s+=i\n",
    "            if(i==liste[-1]):\n",
    "                break;\n",
    "            s+=\" and \"\n",
    "    return s+\" are\"         \n",
    "# s=write_string_name_or_names(above_student)   \n",
    "# s\n",
    "            "
   ]
  },
  {
   "cell_type": "code",
   "execution_count": 13,
   "metadata": {},
   "outputs": [
    {
     "name": "stdout",
     "output_type": "stream",
     "text": [
      "Grade(s) of Denis and Max and Lara are below the average\n",
      "Grade(s) of Jane and Pat are above the average\n",
      "Grade(s) of  are equal to the mean\n"
     ]
    }
   ],
   "source": [
    "print(f\"Grade(s) of {write_string_name_or_names(below_student)} below the average\")\n",
    "print(f\"Grade(s) of {write_string_name_or_names(above_student)} above the average\")\n",
    "print(f\"Grade(s) of {write_string_name_or_names(equal_student)} equal to the mean\")\n"
   ]
  },
  {
   "cell_type": "markdown",
   "metadata": {},
   "source": [
    "## 5"
   ]
  },
  {
   "cell_type": "code",
   "execution_count": 121,
   "metadata": {},
   "outputs": [],
   "source": [
    "ticket=200\n",
    "min=1\n",
    "max=4\n",
    "count=0"
   ]
  },
  {
   "cell_type": "code",
   "execution_count": 122,
   "metadata": {},
   "outputs": [
    {
     "name": "stdout",
     "output_type": "stream",
     "text": [
      "200 tickets remaining\n",
      "Minimum 1 , Maximum 4\n",
      "How many do you want to buy?\n",
      "4\n",
      "1 sales transactions\n",
      "****************************\n",
      "196 tickets remaining\n",
      "Minimum 1 , Maximum 4\n",
      "How many do you want to buy?\n",
      "4\n",
      "2 sales transactions\n",
      "****************************\n",
      "192 tickets remaining\n",
      "Minimum 1 , Maximum 4\n",
      "How many do you want to buy?\n",
      "4\n",
      "3 sales transactions\n",
      "****************************\n",
      "188 tickets remaining\n",
      "Minimum 1 , Maximum 4\n",
      "How many do you want to buy?\n",
      "4\n",
      "4 sales transactions\n",
      "****************************\n",
      "184 tickets remaining\n",
      "Minimum 1 , Maximum 4\n",
      "How many do you want to buy?\n",
      "4\n",
      "5 sales transactions\n",
      "****************************\n",
      "180 tickets remaining\n",
      "Minimum 1 , Maximum 4\n",
      "How many do you want to buy?\n",
      "4\n",
      "6 sales transactions\n",
      "****************************\n",
      "176 tickets remaining\n",
      "Minimum 1 , Maximum 4\n",
      "How many do you want to buy?\n",
      "5\n",
      "invalid number\n",
      "****************************\n",
      "176 tickets remaining\n",
      "Minimum 1 , Maximum 4\n",
      "How many do you want to buy?\n",
      "6\n",
      "invalid number\n",
      "****************************\n",
      "176 tickets remaining\n",
      "Minimum 1 , Maximum 4\n",
      "How many do you want to buy?\n",
      "34566\n",
      "invalid number\n",
      "****************************\n",
      "176 tickets remaining\n",
      "Minimum 1 , Maximum 4\n",
      "How many do you want to buy?\n",
      "3\n",
      "7 sales transactions\n",
      "****************************\n",
      "173 tickets remaining\n",
      "Minimum 1 , Maximum 4\n",
      "How many do you want to buy?\n",
      "5\n",
      "invalid number\n",
      "****************************\n",
      "173 tickets remaining\n",
      "Minimum 1 , Maximum 4\n",
      "How many do you want to buy?\n",
      "4\n",
      "8 sales transactions\n",
      "****************************\n",
      "169 tickets remaining\n",
      "Minimum 1 , Maximum 4\n",
      "How many do you want to buy?\n",
      "4\n",
      "9 sales transactions\n",
      "****************************\n",
      "165 tickets remaining\n",
      "Minimum 1 , Maximum 4\n",
      "How many do you want to buy?\n",
      "4\n",
      "10 sales transactions\n",
      "****************************\n",
      "161 tickets remaining\n",
      "Minimum 1 , Maximum 4\n",
      "How many do you want to buy?\n",
      "4\n",
      "11 sales transactions\n",
      "****************************\n",
      "157 tickets remaining\n",
      "Minimum 1 , Maximum 4\n",
      "How many do you want to buy?\n",
      "4\n",
      "12 sales transactions\n",
      "****************************\n",
      "153 tickets remaining\n",
      "Minimum 1 , Maximum 4\n",
      "How many do you want to buy?\n",
      "4\n",
      "13 sales transactions\n",
      "****************************\n",
      "149 tickets remaining\n",
      "Minimum 1 , Maximum 4\n",
      "How many do you want to buy?\n",
      "4\n",
      "14 sales transactions\n",
      "****************************\n",
      "145 tickets remaining\n",
      "Minimum 1 , Maximum 4\n",
      "How many do you want to buy?\n",
      "4\n",
      "15 sales transactions\n",
      "****************************\n",
      "141 tickets remaining\n",
      "Minimum 1 , Maximum 4\n",
      "How many do you want to buy?\n",
      "4\n",
      "16 sales transactions\n",
      "****************************\n",
      "137 tickets remaining\n",
      "Minimum 1 , Maximum 4\n",
      "How many do you want to buy?\n",
      "4\n",
      "17 sales transactions\n",
      "****************************\n",
      "133 tickets remaining\n",
      "Minimum 1 , Maximum 4\n",
      "How many do you want to buy?\n",
      "4\n",
      "18 sales transactions\n",
      "****************************\n",
      "129 tickets remaining\n",
      "Minimum 1 , Maximum 4\n",
      "How many do you want to buy?\n",
      "4\n",
      "19 sales transactions\n",
      "****************************\n",
      "125 tickets remaining\n",
      "Minimum 1 , Maximum 4\n",
      "How many do you want to buy?\n",
      "4\n",
      "20 sales transactions\n",
      "****************************\n",
      "121 tickets remaining\n",
      "Minimum 1 , Maximum 4\n",
      "How many do you want to buy?\n",
      "4\n",
      "21 sales transactions\n",
      "****************************\n",
      "117 tickets remaining\n",
      "Minimum 1 , Maximum 4\n",
      "How many do you want to buy?\n",
      "4\n",
      "22 sales transactions\n",
      "****************************\n",
      "113 tickets remaining\n",
      "Minimum 1 , Maximum 4\n",
      "How many do you want to buy?\n",
      "4\n",
      "23 sales transactions\n",
      "****************************\n",
      "109 tickets remaining\n",
      "Minimum 1 , Maximum 4\n",
      "How many do you want to buy?\n",
      "4\n",
      "24 sales transactions\n",
      "****************************\n",
      "105 tickets remaining\n",
      "Minimum 1 , Maximum 4\n",
      "How many do you want to buy?\n",
      "4\n",
      "25 sales transactions\n",
      "****************************\n",
      "101 tickets remaining\n",
      "Minimum 1 , Maximum 4\n",
      "How many do you want to buy?\n",
      "4\n",
      "26 sales transactions\n",
      "****************************\n",
      "97 tickets remaining\n",
      "Minimum 1 , Maximum 4\n",
      "How many do you want to buy?\n",
      "4\n",
      "27 sales transactions\n",
      "****************************\n",
      "93 tickets remaining\n",
      "Minimum 1 , Maximum 4\n",
      "How many do you want to buy?\n",
      "4\n",
      "28 sales transactions\n",
      "****************************\n",
      "89 tickets remaining\n",
      "Minimum 1 , Maximum 4\n",
      "How many do you want to buy?\n",
      "4\n",
      "29 sales transactions\n",
      "****************************\n",
      "85 tickets remaining\n",
      "Minimum 1 , Maximum 4\n",
      "How many do you want to buy?\n",
      "4\n",
      "30 sales transactions\n",
      "****************************\n",
      "81 tickets remaining\n",
      "Minimum 1 , Maximum 4\n",
      "How many do you want to buy?\n",
      "4\n",
      "31 sales transactions\n",
      "****************************\n",
      "77 tickets remaining\n",
      "Minimum 1 , Maximum 4\n",
      "How many do you want to buy?\n",
      "4\n",
      "32 sales transactions\n",
      "****************************\n",
      "73 tickets remaining\n",
      "Minimum 1 , Maximum 4\n",
      "How many do you want to buy?\n",
      "4\n",
      "33 sales transactions\n",
      "****************************\n",
      "69 tickets remaining\n",
      "Minimum 1 , Maximum 4\n",
      "How many do you want to buy?\n",
      "4\n",
      "34 sales transactions\n",
      "****************************\n",
      "65 tickets remaining\n",
      "Minimum 1 , Maximum 4\n",
      "How many do you want to buy?\n",
      "4\n",
      "35 sales transactions\n",
      "****************************\n",
      "61 tickets remaining\n",
      "Minimum 1 , Maximum 4\n",
      "How many do you want to buy?\n",
      "4\n",
      "36 sales transactions\n",
      "****************************\n",
      "57 tickets remaining\n",
      "Minimum 1 , Maximum 4\n",
      "How many do you want to buy?\n",
      "4\n",
      "37 sales transactions\n",
      "****************************\n",
      "53 tickets remaining\n",
      "Minimum 1 , Maximum 4\n",
      "How many do you want to buy?\n",
      "4\n",
      "38 sales transactions\n",
      "****************************\n",
      "49 tickets remaining\n",
      "Minimum 1 , Maximum 4\n",
      "How many do you want to buy?\n",
      "4\n",
      "39 sales transactions\n",
      "****************************\n",
      "45 tickets remaining\n",
      "Minimum 1 , Maximum 4\n",
      "How many do you want to buy?\n",
      "4\n",
      "40 sales transactions\n",
      "****************************\n",
      "41 tickets remaining\n",
      "Minimum 1 , Maximum 4\n",
      "How many do you want to buy?\n",
      "4\n",
      "41 sales transactions\n",
      "****************************\n",
      "37 tickets remaining\n",
      "Minimum 1 , Maximum 4\n",
      "How many do you want to buy?\n",
      "4\n",
      "42 sales transactions\n",
      "****************************\n",
      "33 tickets remaining\n",
      "Minimum 1 , Maximum 4\n",
      "How many do you want to buy?\n",
      "4\n",
      "43 sales transactions\n",
      "****************************\n",
      "29 tickets remaining\n",
      "Minimum 1 , Maximum 4\n",
      "How many do you want to buy?\n",
      "4\n",
      "44 sales transactions\n",
      "****************************\n",
      "25 tickets remaining\n",
      "Minimum 1 , Maximum 4\n",
      "How many do you want to buy?\n",
      "4\n",
      "45 sales transactions\n",
      "****************************\n",
      "21 tickets remaining\n",
      "Minimum 1 , Maximum 4\n",
      "How many do you want to buy?\n",
      "4\n",
      "46 sales transactions\n",
      "****************************\n",
      "17 tickets remaining\n",
      "Minimum 1 , Maximum 4\n",
      "How many do you want to buy?\n",
      "4\n",
      "47 sales transactions\n",
      "****************************\n",
      "13 tickets remaining\n",
      "Minimum 1 , Maximum 4\n",
      "How many do you want to buy?\n",
      "4\n",
      "48 sales transactions\n",
      "****************************\n",
      "9 tickets remaining\n",
      "Minimum 1 , Maximum 4\n",
      "How many do you want to buy?\n",
      "4\n",
      "49 sales transactions\n",
      "****************************\n",
      "5 tickets remaining\n",
      "Minimum 1 , Maximum 4\n",
      "How many do you want to buy?\n",
      "1\n",
      "50 sales transactions\n",
      "****************************\n",
      "4 tickets remaining\n",
      "Minimum 1 , Maximum 4\n",
      "How many do you want to buy?\n",
      "5\n",
      "invalid number\n",
      "****************************\n",
      "4 tickets remaining\n",
      "Minimum 1 , Maximum 4\n",
      "How many do you want to buy?\n",
      "2\n",
      "51 sales transactions\n",
      "****************************\n",
      "2 tickets remaining\n",
      "Minimum 1 , Maximum 2\n",
      "How many do you want to buy?\n",
      "1\n",
      "52 sales transactions\n",
      "****************************\n",
      "1 tickets remaining\n",
      "Minimum 1 , Maximum 1\n",
      "How many do you want to buy?\n",
      "2\n",
      "invalid number\n",
      "****************************\n",
      "1 tickets remaining\n",
      "Minimum 1 , Maximum 1\n",
      "How many do you want to buy?\n",
      "1\n",
      "53 sales transactions\n",
      "****************************\n"
     ]
    }
   ],
   "source": [
    "while(ticket>0):\n",
    "    print(f\"{ticket} tickets remaining\")\n",
    "    print(f\"Minimum {min} , Maximum {max}\")\n",
    "    satis=int(input(\"How many do you want to buy?\\n\"))\n",
    "    if((satis>=min)&(satis<=max)):\n",
    "        ticket-=satis\n",
    "        count+=1\n",
    "        print(count,\"sales transactions\")\n",
    "    else:\n",
    "        print(\"invalid number\")\n",
    "    if(ticket<max):\n",
    "        max=ticket\n",
    "    print(\"****************************\")"
   ]
  },
  {
   "cell_type": "code",
   "execution_count": null,
   "metadata": {},
   "outputs": [],
   "source": []
  }
 ],
 "metadata": {
  "kernelspec": {
   "display_name": "Python 3",
   "language": "python",
   "name": "python3"
  },
  "language_info": {
   "codemirror_mode": {
    "name": "ipython",
    "version": 3
   },
   "file_extension": ".py",
   "mimetype": "text/x-python",
   "name": "python",
   "nbconvert_exporter": "python",
   "pygments_lexer": "ipython3",
   "version": "3.8.5"
  }
 },
 "nbformat": 4,
 "nbformat_minor": 4
}
